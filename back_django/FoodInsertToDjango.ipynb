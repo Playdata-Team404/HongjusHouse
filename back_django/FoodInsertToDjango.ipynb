{
 "cells": [
  {
   "cell_type": "code",
   "execution_count": 1,
   "metadata": {
    "collapsed": true
   },
   "outputs": [
    {
     "ename": "NameError",
     "evalue": "name 'models' is not defined",
     "output_type": "error",
     "traceback": [
      "\u001b[1;31m---------------------------------------------------------------------------\u001b[0m",
      "\u001b[1;31mNameError\u001b[0m                                 Traceback (most recent call last)",
      "\u001b[1;32m<ipython-input-1-8250d14cdc8f>\u001b[0m in \u001b[0;36m<module>\u001b[1;34m\u001b[0m\n\u001b[1;32m----> 1\u001b[1;33m \u001b[1;32mclass\u001b[0m \u001b[0mFood\u001b[0m\u001b[1;33m(\u001b[0m\u001b[0mmodels\u001b[0m\u001b[1;33m.\u001b[0m\u001b[0mModel\u001b[0m\u001b[1;33m)\u001b[0m\u001b[1;33m:\u001b[0m\u001b[1;33m\u001b[0m\u001b[1;33m\u001b[0m\u001b[0m\n\u001b[0m\u001b[0;32m      2\u001b[0m     \u001b[0mfid\u001b[0m \u001b[1;33m=\u001b[0m \u001b[0mmodels\u001b[0m\u001b[1;33m.\u001b[0m\u001b[0mCharField\u001b[0m\u001b[1;33m(\u001b[0m\u001b[0mprimary_key\u001b[0m\u001b[1;33m=\u001b[0m\u001b[1;32mTrue\u001b[0m\u001b[1;33m,\u001b[0m \u001b[0mmax_length\u001b[0m\u001b[1;33m=\u001b[0m\u001b[1;36m20\u001b[0m\u001b[1;33m)\u001b[0m\u001b[1;33m\u001b[0m\u001b[1;33m\u001b[0m\u001b[0m\n\u001b[0;32m      3\u001b[0m     \u001b[0mfname\u001b[0m \u001b[1;33m=\u001b[0m \u001b[0mmodels\u001b[0m\u001b[1;33m.\u001b[0m\u001b[0mCharField\u001b[0m\u001b[1;33m(\u001b[0m\u001b[0mmax_length\u001b[0m\u001b[1;33m=\u001b[0m\u001b[1;36m30\u001b[0m\u001b[1;33m)\u001b[0m\u001b[1;33m\u001b[0m\u001b[1;33m\u001b[0m\u001b[0m\n\u001b[0;32m      4\u001b[0m     \u001b[0mfamount\u001b[0m \u001b[1;33m=\u001b[0m \u001b[0mmodels\u001b[0m\u001b[1;33m.\u001b[0m\u001b[0mIntegerField\u001b[0m\u001b[1;33m(\u001b[0m\u001b[0mmax_length\u001b[0m\u001b[1;33m=\u001b[0m\u001b[1;36m10\u001b[0m\u001b[1;33m)\u001b[0m\u001b[1;33m\u001b[0m\u001b[1;33m\u001b[0m\u001b[0m\n\u001b[0;32m      5\u001b[0m     \u001b[0mfcal\u001b[0m \u001b[1;33m=\u001b[0m \u001b[0mmodels\u001b[0m\u001b[1;33m.\u001b[0m\u001b[0mFloatField\u001b[0m\u001b[1;33m(\u001b[0m\u001b[1;33m)\u001b[0m\u001b[1;33m\u001b[0m\u001b[1;33m\u001b[0m\u001b[0m\n",
      "\u001b[1;31mNameError\u001b[0m: name 'models' is not defined"
     ]
    }
   ],
   "source": [
    "class Food(models.Model):\n",
    "    fid = models.CharField(primary_key=True, max_length=20)\n",
    "    fname = models.CharField(max_length=30)\n",
    "    famount = models.IntegerField(max_length=10)\n",
    "    fcal = models.FloatField()\n",
    "    fcarboh = models.FloatField()\n",
    "    fprotein = models.FloatField()\n",
    "    ffat = models.FloatField()"
   ]
  },
  {
   "cell_type": "code",
   "execution_count": 11,
   "metadata": {},
   "outputs": [
    {
     "name": "stdout",
     "output_type": "stream",
     "text": [
      "{'FID': ['F1', 'F2', 'F3', 'F4', 'F5', 'F6', 'F7', 'F8', 'F9', 'F10', 'F11', 'F12', 'F13', 'F14', 'F15', 'F16', 'F17', 'F18', 'F19'], 'FNAME': ['가지구이', '가츠동', '갈비구이', '감자구이', '감자그라탕', '감자샐러드', '감자스프', '바게트빵', '밥', '방울토마토', '소고기 구이', '수박', '스크램블에그', '액상요구르트', '양념치킨', '연어구이', '오믈렛', '짬뽕', '치킨너겟'], 'FAMOUNT': [100, 100, 100, 100, 100, 100, 100, 100, 100, 100, 100, 100, 100, 100, 100, 100, 100, 100, 100], 'FCAL': [60, 220, 240, 93, 132, 150, 43, 295, 130, 18, 240, 30, 148, 75, 267, 171, 154, 151, 210], 'FCARBOH': [7.49, 15.0, 0.89, 21.0, 11.0, 18.0, 5.84, 48.0, 28.0, 3.92, 0.0, 8.0, 1.6, 5.0, 13.8, 0.49, 0.6, 27.0, 11.0], 'FPROTEIN': [1.37, 13.0, 24.0, 2.5, 5.0, 2.0, 1.53, 10.0, 2.7, 0.88, 27.88, 0.6, 10.0, 4.5, 15.6, 23.97, 11.0, 6.0, 13.0], 'FFAT': [3.68, 11.0, 14.0, 0.1, 8.0, 8.0, 1.46, 0.3, 0.3, 0.2, 13.4, 0.2, 11.0, 3.9, 17.4, 7.56, 12.0, 2.0, 12.8]} 19\n"
     ]
    }
   ],
   "source": [
    "xlsx = pd.read_csv('foodtable1.csv',encoding='cp949')\n",
    "menus = xlsx.to_dict('list')\n",
    "print(menus,len(xlsx))"
   ]
  },
  {
   "cell_type": "code",
   "execution_count": null,
   "metadata": {},
   "outputs": [],
   "source": [
    "import pandas as pd\n",
    "# Food Model import 필요, foodtable 같은 위치에 놔야됨\n",
    "\n",
    "xlsx = pd.read_csv('foodtable1.csv',encoding='cp949')\n",
    "menus = xlsx.to_dict('list')\n",
    "print(menus,len(xlsx))\n",
    "\n",
    "for i in range(len(menus)):\n",
    "    new_menu = Food(fid=food['FID'][i],fname=food['FNAME'][i],famount=food['FAMOUNT'][i],\\\n",
    "                 fcal=food['FCAL'][i],fcarboh=food['FCARBOH'][i],fprotein=food['FPROTEIN'][i],\\\n",
    "                 ffat=food['FFAT'][i])\n",
    "    new_menu.save()"
   ]
  }
 ],
 "metadata": {
  "kernelspec": {
   "display_name": "Python 3",
   "language": "python",
   "name": "python3"
  },
  "language_info": {
   "codemirror_mode": {
    "name": "ipython",
    "version": 3
   },
   "file_extension": ".py",
   "mimetype": "text/x-python",
   "name": "python",
   "nbconvert_exporter": "python",
   "pygments_lexer": "ipython3",
   "version": "3.7.11"
  },
  "toc": {
   "base_numbering": 1,
   "nav_menu": {},
   "number_sections": true,
   "sideBar": true,
   "skip_h1_title": false,
   "title_cell": "Table of Contents",
   "title_sidebar": "Contents",
   "toc_cell": false,
   "toc_position": {},
   "toc_section_display": true,
   "toc_window_display": false
  }
 },
 "nbformat": 4,
 "nbformat_minor": 4
}
